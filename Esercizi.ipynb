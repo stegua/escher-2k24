{
 "cells": [
  {
   "cell_type": "markdown",
   "metadata": {},
   "source": [
    "<a rel=\"license\" href=\"http://creativecommons.org/licenses/by/4.0/\"><img alt=\"Creative Commons License\" style=\"border-width:0\" src=\"https://i.creativecommons.org/l/by/4.0/88x31.png\" /></a><br /><span xmlns:dct=\"http://purl.org/dc/terms/\" property=\"dct:title\"><b>Ricorsioni grafiche nel mondo di Escher</b></span> by <a xmlns:cc=\"http://creativecommons.org/ns#\" href=\"http://mate.unipv.it/gualandi\" property=\"cc:attributionName\" rel=\"cc:attributionURL\">Stefano Gualandi</a> is licensed under a <a rel=\"license\" href=\"http://creativecommons.org/licenses/by/4.0/\">Creative Commons Attribution 4.0 International License</a>. Based on a project at <a xmlns:dct=\"http://purl.org/dc/terms/\" href=\"https://github.com/mathcoding/opt4ds\" rel=\"dct:source\">https://github.com/escher-2k24</a>."
   ]
  },
  {
   "cell_type": "markdown",
   "metadata": {},
   "source": [
    "# Ricorsioni Grafiche: Esercizi\n",
    "In questo notebook, proponiamo alcuni esercizi che hanno l'obiettivo di farvi utilizzare gli elementi di programmazione visti per produrre il *woodcut* di Escher, e di stimolare la vostra curiosità e fantasia.\n",
    "\n",
    "Per prima cosa dovete importare la libreria `tiles`, con il comando seguente:"
   ]
  },
  {
   "cell_type": "code",
   "execution_count": 65,
   "metadata": {},
   "outputs": [],
   "source": [
    "# Download the file: da eseguire solo da un notebook Colab\n",
    "#!wget --no-cache --backups=1 https://raw.githubusercontent.com/stegua/escher-2k24/main/tiles.py\n",
    "#!wget --no-cache --backups=1 https://raw.githubusercontent.com/stegua/escher-2k24/main/irish.png\n",
    "#!wget --no-cache --backups=1 https://raw.githubusercontent.com/stegua/escher-2k24/main/squares.png\n",
    "#!wget --no-cache --backups=1 https://raw.githubusercontent.com/stegua/escher-2k24/main/fishEscher.jpg\n",
    "\n",
    "# Importa la libreria\n",
    "from tiles import *"
   ]
  },
  {
   "cell_type": "markdown",
   "metadata": {},
   "source": [
    "Se volete vedere i comandi della libreria che avete importato potete usare il comando `who`:"
   ]
  },
  {
   "cell_type": "code",
   "execution_count": null,
   "metadata": {},
   "outputs": [],
   "source": [
    "who"
   ]
  },
  {
   "cell_type": "markdown",
   "metadata": {},
   "source": [
    "La libreria vi mette a disposizione:\n",
    "\n",
    "1. Le funzioni già viste per il woodcut: `above, beside, flip, nonet, over, rot, rot45`\n",
    "2. Delle stringhe che possono essere usate per definire dei nuovi tile: `TQ, TR, ARC, EDGE`\n",
    "3. Alcuni comandi nuovi: `parse, saveTile, setSize`"
   ]
  },
  {
   "cell_type": "markdown",
   "metadata": {},
   "source": [
    "## Definizione di nuovi tiles\n",
    "Utilizzando il comando `parse(<stringa>)` è possibile definire dei nuovi tile.\n",
    "\n",
    "Considerate la stringa seguente:"
   ]
  },
  {
   "cell_type": "code",
   "execution_count": null,
   "metadata": {},
   "outputs": [],
   "source": [
    "TR = \"M 0,1         L 1,1         L 0,0         L 0,1\""
   ]
  },
  {
   "cell_type": "markdown",
   "metadata": {},
   "source": [
    "Questa stringa rappresenta una sequenza di comandi che una \"penna meccanica\" dovrebbe seguire per disegnare un tile.\n",
    "La stringa contiene due tipi di lettere: **M** e **L** seguite da una coppia di coordinate nel piano:\n",
    "\n",
    "* La lettera **M** indica il comando \"*move to position x,y*\" \n",
    "* La lettera **L** indica il comando \"*draw a line till position x,y*\" \n",
    "\n",
    "Si noti che la posizione (0,0) è in alto a sinistra, e la posizione (1,1) è invece in basso a destra.\n",
    "\n",
    "Se passiamo questa stringa in input alla funzione `parse`, otteniamo in output quanto segue:"
   ]
  },
  {
   "cell_type": "code",
   "execution_count": null,
   "metadata": {},
   "outputs": [],
   "source": [
    "# Definisce la dimensione del tile\n",
    "setSize(5)\n",
    "# Esegui il parsing della stringa\n",
    "parse(TR)"
   ]
  },
  {
   "cell_type": "markdown",
   "metadata": {},
   "source": [
    "La funzione `parse` ha in realtà altri tre variabili di input che servono per indicare se si vuole una figura colorata, che colore usare per il bordo e che colore usare per la parte interna:"
   ]
  },
  {
   "cell_type": "code",
   "execution_count": null,
   "metadata": {},
   "outputs": [],
   "source": [
    "parse(TR, fill=True, faceColor='yellow', edgeColor='blue')"
   ]
  },
  {
   "cell_type": "markdown",
   "metadata": {},
   "source": [
    "Per definire un quadrato nero, si può usare la stringa **TQ** della libreria tiles nel modo seguente:"
   ]
  },
  {
   "cell_type": "code",
   "execution_count": null,
   "metadata": {},
   "outputs": [],
   "source": [
    "parse(TQ, fill=True, faceColor='black', edgeColor='black')"
   ]
  },
  {
   "cell_type": "markdown",
   "metadata": {},
   "source": [
    "## Esercizio 1: La scacchiera\n",
    "Definite un tile *blank* e uno *black*, e a partire da questi due tile, utilizzando la funzione `quartet` in modo ricorsivo, scrivere una funzione che produca una scacchiera 8x8."
   ]
  },
  {
   "cell_type": "code",
   "execution_count": null,
   "metadata": {
    "scrolled": true
   },
   "outputs": [],
   "source": [
    "# DA SVOLGERE\n",
    "Chess(2)"
   ]
  },
  {
   "cell_type": "markdown",
   "metadata": {},
   "source": [
    "## Esercizio 2: Quadrati psichedelici\n",
    "Definite quadrati colorati, e utilizzando la funzione `quartet` in modo ricorsivo, scrivere una funzione che produca una sequenza di quadrati *psichedelici* simile all'immagine seguente:\n",
    "\n",
    "<img src=\"squares.png\" alt=\"Psichedelici\" width=\"400\"/>\n"
   ]
  },
  {
   "cell_type": "code",
   "execution_count": null,
   "metadata": {},
   "outputs": [],
   "source": [
    "# DA SVOLGERE\n",
    "# setSize(5)\n",
    "Squares(4)"
   ]
  },
  {
   "cell_type": "markdown",
   "metadata": {},
   "source": [
    "## Esercizio 3: Irish fantasy\n",
    "Utilizzando le diverse funzioni della libreria tiles, scrivere una funzione ricorsiva che produca un tile simile all'immagine seguente:\n",
    "\n",
    "<img src=\"irish.png\" alt=\"Irish\" width=\"400\"/>\n",
    "\n",
    "Potete utilizzare i due tile seguenti:"
   ]
  },
  {
   "cell_type": "code",
   "execution_count": null,
   "metadata": {},
   "outputs": [],
   "source": [
    "p1 = parse(EDGE, fill=True, edgeColor='black', faceColor='darkgreen')\n",
    "p1\n"
   ]
  },
  {
   "cell_type": "code",
   "execution_count": null,
   "metadata": {},
   "outputs": [],
   "source": [
    "p2 = parse(EDGE, fill=True, edgeColor='black', faceColor='blue')\n",
    "p2"
   ]
  },
  {
   "cell_type": "markdown",
   "metadata": {},
   "source": [
    "## Esercizio 4: Salvare il vostro tile su un file\n",
    "Per salvare un immagine che avete creato potete usare il comando `saveTile`, specificando il formato `PNG`, come nell'esempio seguente."
   ]
  },
  {
   "cell_type": "code",
   "execution_count": null,
   "metadata": {},
   "outputs": [],
   "source": [
    "# Prima create un tile di vostra scelta\n",
    "p = parse(EDGE, fill=True, edgeColor='black', faceColor='red')\n",
    "t = over(over(over(p, rot(p)), rot(rot(p))), rot(rot(rot(p))))\n",
    "\n",
    "# Dopo lo salvate in un file png con il comando seguente (scegliete voi il nome del file)\n",
    "saveTile(t, 'reds.png', fmt='png')"
   ]
  },
  {
   "cell_type": "markdown",
   "metadata": {},
   "source": [
    "# Challenge: Miglior Immagine Ricorsiva\n",
    "Usate la vostra fantasia per creare un'immagine ricorsiva colorata.\n",
    "\n",
    "Al termine, salvate la vostra immagina usando il comando `saveTile`, specificando il formato `PNG`, come nell'esempio seguente.\n",
    "\n",
    "Dopo aver salvato l'immagine, mandate la ricorsione che trovate più curiosa al docente per email, mandando sia i comandi python che avete usato per generarla, che il file `PNG` che avete salvato.\n",
    "\n",
    "Al termine della lezione, voteremo il tile più bello.\n",
    "\n",
    "Buon lavoro!"
   ]
  }
 ],
 "metadata": {
  "kernelspec": {
   "display_name": "Python 3",
   "language": "python",
   "name": "python3"
  },
  "language_info": {
   "codemirror_mode": {
    "name": "ipython",
    "version": 3
   },
   "file_extension": ".py",
   "mimetype": "text/x-python",
   "name": "python",
   "nbconvert_exporter": "python",
   "pygments_lexer": "ipython3",
   "version": "3.11.5"
  }
 },
 "nbformat": 4,
 "nbformat_minor": 2
}
